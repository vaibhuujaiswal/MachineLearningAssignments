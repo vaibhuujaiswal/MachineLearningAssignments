{
  "cells": [
    {
      "cell_type": "code",
      "execution_count": 20,
      "metadata": {
        "colab": {
          "base_uri": "https://localhost:8080/"
        },
        "id": "urD0LEqOvzLV",
        "outputId": "67dac045-55e2-418a-971f-e46ca2875f90"
      },
      "outputs": [
        {
          "output_type": "stream",
          "name": "stdout",
          "text": [
            "Drive already mounted at /content/drive; to attempt to forcibly remount, call drive.mount(\"/content/drive\", force_remount=True).\n"
          ]
        }
      ],
      "source": [
        "from google.colab import drive\n",
        "drive.mount('/content/drive') "
      ]
    },
    {
      "cell_type": "code",
      "execution_count": 21,
      "metadata": {
        "id": "rpFwyq0yxpAo"
      },
      "outputs": [],
      "source": [
        "import pandas as pd\n",
        "df = pd.read_csv(\"/content/drive/MyDrive/Semester 5/ML/ML Assignment 2/BitcoinHeistData.csv\")"
      ]
    },
    {
      "cell_type": "markdown",
      "metadata": {
        "id": "cG86s1e9z5ku"
      },
      "source": [
        "####Data Description"
      ]
    },
    {
      "cell_type": "code",
      "execution_count": 22,
      "metadata": {
        "colab": {
          "base_uri": "https://localhost:8080/",
          "height": 927
        },
        "id": "Wvfu6qB7yHAD",
        "outputId": "83e46ebc-bdde-4a2d-82a4-7f8e71c39edc"
      },
      "outputs": [
        {
          "output_type": "stream",
          "name": "stdout",
          "text": [
            "<class 'pandas.core.frame.DataFrame'>\n",
            "RangeIndex: 2916697 entries, 0 to 2916696\n",
            "Data columns (total 10 columns):\n",
            " #   Column     Dtype  \n",
            "---  ------     -----  \n",
            " 0   address    object \n",
            " 1   year       int64  \n",
            " 2   day        int64  \n",
            " 3   length     int64  \n",
            " 4   weight     float64\n",
            " 5   count      int64  \n",
            " 6   looped     int64  \n",
            " 7   neighbors  int64  \n",
            " 8   income     float64\n",
            " 9   label      object \n",
            "dtypes: float64(2), int64(6), object(2)\n",
            "memory usage: 222.5+ MB\n",
            "0          princetonCerber\n",
            "1           princetonLocky\n",
            "2          princetonCerber\n",
            "3          princetonCerber\n",
            "4           princetonLocky\n",
            "                ...       \n",
            "2916692              white\n",
            "2916693              white\n",
            "2916694              white\n",
            "2916695              white\n",
            "2916696              white\n",
            "Name: label, Length: 2916697, dtype: object\n"
          ]
        },
        {
          "output_type": "execute_result",
          "data": {
            "text/plain": [
              "         year  day  length     weight  count  looped  neighbors        income  \\\n",
              "0        2017   11      18   0.008333      1       0          2  1.000500e+08   \n",
              "1        2016  132      44   0.000244      1       0          1  1.000000e+08   \n",
              "2        2016  246       0   1.000000      1       0          2  2.000000e+08   \n",
              "3        2016  322      72   0.003906      1       0          2  7.120000e+07   \n",
              "4        2016  238     144   0.072848    456       0          1  2.000000e+08   \n",
              "...       ...  ...     ...        ...    ...     ...        ...           ...   \n",
              "2916692  2018  330       0   0.111111      1       0          1  1.255809e+09   \n",
              "2916693  2018  330       0   1.000000      1       0          1  4.409699e+07   \n",
              "2916694  2018  330       2  12.000000      6       6         35  2.398267e+09   \n",
              "2916695  2018  330       0   0.500000      1       0          1  1.780427e+08   \n",
              "2916696  2018  330     144   0.073972   6800       0          2  1.123500e+08   \n",
              "\n",
              "                   label  \n",
              "0        princetonCerber  \n",
              "1         princetonLocky  \n",
              "2        princetonCerber  \n",
              "3        princetonCerber  \n",
              "4         princetonLocky  \n",
              "...                  ...  \n",
              "2916692            white  \n",
              "2916693            white  \n",
              "2916694            white  \n",
              "2916695            white  \n",
              "2916696            white  \n",
              "\n",
              "[2916697 rows x 9 columns]"
            ],
            "text/html": [
              "\n",
              "  <div id=\"df-1226b2e6-f886-4b75-8081-356f648b4df9\">\n",
              "    <div class=\"colab-df-container\">\n",
              "      <div>\n",
              "<style scoped>\n",
              "    .dataframe tbody tr th:only-of-type {\n",
              "        vertical-align: middle;\n",
              "    }\n",
              "\n",
              "    .dataframe tbody tr th {\n",
              "        vertical-align: top;\n",
              "    }\n",
              "\n",
              "    .dataframe thead th {\n",
              "        text-align: right;\n",
              "    }\n",
              "</style>\n",
              "<table border=\"1\" class=\"dataframe\">\n",
              "  <thead>\n",
              "    <tr style=\"text-align: right;\">\n",
              "      <th></th>\n",
              "      <th>year</th>\n",
              "      <th>day</th>\n",
              "      <th>length</th>\n",
              "      <th>weight</th>\n",
              "      <th>count</th>\n",
              "      <th>looped</th>\n",
              "      <th>neighbors</th>\n",
              "      <th>income</th>\n",
              "      <th>label</th>\n",
              "    </tr>\n",
              "  </thead>\n",
              "  <tbody>\n",
              "    <tr>\n",
              "      <th>0</th>\n",
              "      <td>2017</td>\n",
              "      <td>11</td>\n",
              "      <td>18</td>\n",
              "      <td>0.008333</td>\n",
              "      <td>1</td>\n",
              "      <td>0</td>\n",
              "      <td>2</td>\n",
              "      <td>1.000500e+08</td>\n",
              "      <td>princetonCerber</td>\n",
              "    </tr>\n",
              "    <tr>\n",
              "      <th>1</th>\n",
              "      <td>2016</td>\n",
              "      <td>132</td>\n",
              "      <td>44</td>\n",
              "      <td>0.000244</td>\n",
              "      <td>1</td>\n",
              "      <td>0</td>\n",
              "      <td>1</td>\n",
              "      <td>1.000000e+08</td>\n",
              "      <td>princetonLocky</td>\n",
              "    </tr>\n",
              "    <tr>\n",
              "      <th>2</th>\n",
              "      <td>2016</td>\n",
              "      <td>246</td>\n",
              "      <td>0</td>\n",
              "      <td>1.000000</td>\n",
              "      <td>1</td>\n",
              "      <td>0</td>\n",
              "      <td>2</td>\n",
              "      <td>2.000000e+08</td>\n",
              "      <td>princetonCerber</td>\n",
              "    </tr>\n",
              "    <tr>\n",
              "      <th>3</th>\n",
              "      <td>2016</td>\n",
              "      <td>322</td>\n",
              "      <td>72</td>\n",
              "      <td>0.003906</td>\n",
              "      <td>1</td>\n",
              "      <td>0</td>\n",
              "      <td>2</td>\n",
              "      <td>7.120000e+07</td>\n",
              "      <td>princetonCerber</td>\n",
              "    </tr>\n",
              "    <tr>\n",
              "      <th>4</th>\n",
              "      <td>2016</td>\n",
              "      <td>238</td>\n",
              "      <td>144</td>\n",
              "      <td>0.072848</td>\n",
              "      <td>456</td>\n",
              "      <td>0</td>\n",
              "      <td>1</td>\n",
              "      <td>2.000000e+08</td>\n",
              "      <td>princetonLocky</td>\n",
              "    </tr>\n",
              "    <tr>\n",
              "      <th>...</th>\n",
              "      <td>...</td>\n",
              "      <td>...</td>\n",
              "      <td>...</td>\n",
              "      <td>...</td>\n",
              "      <td>...</td>\n",
              "      <td>...</td>\n",
              "      <td>...</td>\n",
              "      <td>...</td>\n",
              "      <td>...</td>\n",
              "    </tr>\n",
              "    <tr>\n",
              "      <th>2916692</th>\n",
              "      <td>2018</td>\n",
              "      <td>330</td>\n",
              "      <td>0</td>\n",
              "      <td>0.111111</td>\n",
              "      <td>1</td>\n",
              "      <td>0</td>\n",
              "      <td>1</td>\n",
              "      <td>1.255809e+09</td>\n",
              "      <td>white</td>\n",
              "    </tr>\n",
              "    <tr>\n",
              "      <th>2916693</th>\n",
              "      <td>2018</td>\n",
              "      <td>330</td>\n",
              "      <td>0</td>\n",
              "      <td>1.000000</td>\n",
              "      <td>1</td>\n",
              "      <td>0</td>\n",
              "      <td>1</td>\n",
              "      <td>4.409699e+07</td>\n",
              "      <td>white</td>\n",
              "    </tr>\n",
              "    <tr>\n",
              "      <th>2916694</th>\n",
              "      <td>2018</td>\n",
              "      <td>330</td>\n",
              "      <td>2</td>\n",
              "      <td>12.000000</td>\n",
              "      <td>6</td>\n",
              "      <td>6</td>\n",
              "      <td>35</td>\n",
              "      <td>2.398267e+09</td>\n",
              "      <td>white</td>\n",
              "    </tr>\n",
              "    <tr>\n",
              "      <th>2916695</th>\n",
              "      <td>2018</td>\n",
              "      <td>330</td>\n",
              "      <td>0</td>\n",
              "      <td>0.500000</td>\n",
              "      <td>1</td>\n",
              "      <td>0</td>\n",
              "      <td>1</td>\n",
              "      <td>1.780427e+08</td>\n",
              "      <td>white</td>\n",
              "    </tr>\n",
              "    <tr>\n",
              "      <th>2916696</th>\n",
              "      <td>2018</td>\n",
              "      <td>330</td>\n",
              "      <td>144</td>\n",
              "      <td>0.073972</td>\n",
              "      <td>6800</td>\n",
              "      <td>0</td>\n",
              "      <td>2</td>\n",
              "      <td>1.123500e+08</td>\n",
              "      <td>white</td>\n",
              "    </tr>\n",
              "  </tbody>\n",
              "</table>\n",
              "<p>2916697 rows × 9 columns</p>\n",
              "</div>\n",
              "      <button class=\"colab-df-convert\" onclick=\"convertToInteractive('df-1226b2e6-f886-4b75-8081-356f648b4df9')\"\n",
              "              title=\"Convert this dataframe to an interactive table.\"\n",
              "              style=\"display:none;\">\n",
              "        \n",
              "  <svg xmlns=\"http://www.w3.org/2000/svg\" height=\"24px\"viewBox=\"0 0 24 24\"\n",
              "       width=\"24px\">\n",
              "    <path d=\"M0 0h24v24H0V0z\" fill=\"none\"/>\n",
              "    <path d=\"M18.56 5.44l.94 2.06.94-2.06 2.06-.94-2.06-.94-.94-2.06-.94 2.06-2.06.94zm-11 1L8.5 8.5l.94-2.06 2.06-.94-2.06-.94L8.5 2.5l-.94 2.06-2.06.94zm10 10l.94 2.06.94-2.06 2.06-.94-2.06-.94-.94-2.06-.94 2.06-2.06.94z\"/><path d=\"M17.41 7.96l-1.37-1.37c-.4-.4-.92-.59-1.43-.59-.52 0-1.04.2-1.43.59L10.3 9.45l-7.72 7.72c-.78.78-.78 2.05 0 2.83L4 21.41c.39.39.9.59 1.41.59.51 0 1.02-.2 1.41-.59l7.78-7.78 2.81-2.81c.8-.78.8-2.07 0-2.86zM5.41 20L4 18.59l7.72-7.72 1.47 1.35L5.41 20z\"/>\n",
              "  </svg>\n",
              "      </button>\n",
              "      \n",
              "  <style>\n",
              "    .colab-df-container {\n",
              "      display:flex;\n",
              "      flex-wrap:wrap;\n",
              "      gap: 12px;\n",
              "    }\n",
              "\n",
              "    .colab-df-convert {\n",
              "      background-color: #E8F0FE;\n",
              "      border: none;\n",
              "      border-radius: 50%;\n",
              "      cursor: pointer;\n",
              "      display: none;\n",
              "      fill: #1967D2;\n",
              "      height: 32px;\n",
              "      padding: 0 0 0 0;\n",
              "      width: 32px;\n",
              "    }\n",
              "\n",
              "    .colab-df-convert:hover {\n",
              "      background-color: #E2EBFA;\n",
              "      box-shadow: 0px 1px 2px rgba(60, 64, 67, 0.3), 0px 1px 3px 1px rgba(60, 64, 67, 0.15);\n",
              "      fill: #174EA6;\n",
              "    }\n",
              "\n",
              "    [theme=dark] .colab-df-convert {\n",
              "      background-color: #3B4455;\n",
              "      fill: #D2E3FC;\n",
              "    }\n",
              "\n",
              "    [theme=dark] .colab-df-convert:hover {\n",
              "      background-color: #434B5C;\n",
              "      box-shadow: 0px 1px 3px 1px rgba(0, 0, 0, 0.15);\n",
              "      filter: drop-shadow(0px 1px 2px rgba(0, 0, 0, 0.3));\n",
              "      fill: #FFFFFF;\n",
              "    }\n",
              "  </style>\n",
              "\n",
              "      <script>\n",
              "        const buttonEl =\n",
              "          document.querySelector('#df-1226b2e6-f886-4b75-8081-356f648b4df9 button.colab-df-convert');\n",
              "        buttonEl.style.display =\n",
              "          google.colab.kernel.accessAllowed ? 'block' : 'none';\n",
              "\n",
              "        async function convertToInteractive(key) {\n",
              "          const element = document.querySelector('#df-1226b2e6-f886-4b75-8081-356f648b4df9');\n",
              "          const dataTable =\n",
              "            await google.colab.kernel.invokeFunction('convertToInteractive',\n",
              "                                                     [key], {});\n",
              "          if (!dataTable) return;\n",
              "\n",
              "          const docLinkHtml = 'Like what you see? Visit the ' +\n",
              "            '<a target=\"_blank\" href=https://colab.research.google.com/notebooks/data_table.ipynb>data table notebook</a>'\n",
              "            + ' to learn more about interactive tables.';\n",
              "          element.innerHTML = '';\n",
              "          dataTable['output_type'] = 'display_data';\n",
              "          await google.colab.output.renderOutput(dataTable, element);\n",
              "          const docLink = document.createElement('div');\n",
              "          docLink.innerHTML = docLinkHtml;\n",
              "          element.appendChild(docLink);\n",
              "        }\n",
              "      </script>\n",
              "    </div>\n",
              "  </div>\n",
              "  "
            ]
          },
          "metadata": {},
          "execution_count": 22
        }
      ],
      "source": [
        "import numpy as np\n",
        "from matplotlib import pyplot as plt\n",
        "import pandas as pd\n",
        "import seaborn as sns\n",
        "from sklearn import metrics\n",
        "from sklearn.tree import DecisionTreeClassifier\n",
        "\n",
        "df.info()\n",
        "df.count()\n",
        "print(df.label)\n",
        "df = df.drop('address', axis=1)\n",
        "df"
      ]
    },
    {
      "cell_type": "markdown",
      "metadata": {
        "id": "mqrLVi0X0AwV"
      },
      "source": [
        "####Train-Test-Validation set split"
      ]
    },
    {
      "cell_type": "code",
      "execution_count": 23,
      "metadata": {
        "colab": {
          "base_uri": "https://localhost:8080/"
        },
        "id": "KIgCJepAz_N-",
        "outputId": "1027a830-ee68-4952-9a7e-a9238f6f77ea"
      },
      "outputs": [
        {
          "output_type": "stream",
          "name": "stdout",
          "text": [
            "The print value of the main count is 2916697 , whereas the print value of the all splits is equal to 2916697\n",
            "Eureka! It works\n"
          ]
        }
      ],
      "source": [
        "import math\n",
        "def customTrainTestValidateSplit(df):\n",
        "    n = df.label.count() #will give the size of the entire dataset\n",
        "    trainnPoint = math.floor(n*0.7)\n",
        "    testplusvalidaten = n - trainnPoint\n",
        "    testplusvalidatePoint = trainnPoint + (math.floor(testplusvalidaten*0.5))\n",
        "    shuffled_df = df.sample(frac = 1, random_state = 50)\n",
        "    train_df = shuffled_df[:trainnPoint]\n",
        "    test_df =  shuffled_df[trainnPoint:testplusvalidatePoint]\n",
        "    validate_df = shuffled_df[testplusvalidatePoint:]\n",
        "    return train_df, test_df, validate_df\n",
        "\n",
        "train_df, test_df, validate_df = customTrainTestValidateSplit(df)\n",
        "# print(train_df.count())\n",
        "# print(test_df.count())\n",
        "# print(validate_df.count())\n",
        "\n",
        "#The print Value Show that the split is equal to the total count, hence the custom train-test-validate split works : \n",
        "\n",
        "valueOfSplits = train_df.label.count() + test_df.label.count() + validate_df.label.count()\n",
        "mainDfCount = df.label.count()\n",
        "print('The print value of the main count is', mainDfCount,', whereas the print value of the all splits is equal to',valueOfSplits)\n",
        "if (valueOfSplits == mainDfCount):\n",
        "    print(\"Eureka! It works\")\n",
        "else:\n",
        "    print(\"Oh know!\")\n",
        "\n"
      ]
    },
    {
      "cell_type": "markdown",
      "metadata": {
        "id": "JUKTiMPh3nfH"
      },
      "source": [
        "#Part A :"
      ]
    },
    {
      "cell_type": "markdown",
      "metadata": {
        "id": "kobWjGoB7pNp"
      },
      "source": [
        "#####Dividing the train set into features and labels"
      ]
    },
    {
      "cell_type": "code",
      "execution_count": 24,
      "metadata": {
        "colab": {
          "base_uri": "https://localhost:8080/"
        },
        "id": "UZqqDsbs3m4f",
        "outputId": "fc07487a-e1ba-4193-a192-728d2d01ed97"
      },
      "outputs": [
        {
          "output_type": "stream",
          "name": "stdout",
          "text": [
            "         year  day  length     weight  count  looped  neighbors        income  \\\n",
            "41413    2011    1       0   1.000000      1       0          1  5.000000e+09   \n",
            "41414    2011    1       0   1.000000      1       0          2  5.000000e+09   \n",
            "41415    2011    1       0   1.000000      1       0          2  9.150000e+08   \n",
            "41416    2011    1       0   1.000000      1       0          2  3.402500e+10   \n",
            "41417    2011    1       0   1.000000      1       0          2  1.275100e+10   \n",
            "...       ...  ...     ...        ...    ...     ...        ...           ...   \n",
            "2916692  2018  330       0   0.111111      1       0          1  1.255809e+09   \n",
            "2916693  2018  330       0   1.000000      1       0          1  4.409699e+07   \n",
            "2916694  2018  330       2  12.000000      6       6         35  2.398267e+09   \n",
            "2916695  2018  330       0   0.500000      1       0          1  1.780427e+08   \n",
            "2916696  2018  330     144   0.073972   6800       0          2  1.123500e+08   \n",
            "\n",
            "         label  \n",
            "41413    white  \n",
            "41414    white  \n",
            "41415    white  \n",
            "41416    white  \n",
            "41417    white  \n",
            "...        ...  \n",
            "2916692  white  \n",
            "2916693  white  \n",
            "2916694  white  \n",
            "2916695  white  \n",
            "2916696  white  \n",
            "\n",
            "[2875284 rows x 9 columns]\n"
          ]
        }
      ],
      "source": [
        "from sklearn.metrics import classification_report\n",
        "train_x_df = train_df.drop(\"label\", axis=1)\n",
        "train_y_df = train_df[\"label\"].copy()\n",
        "\n",
        "test_x_df = test_df.drop(\"label\", axis=1)\n",
        "test_y_df = test_df[\"label\"].copy()\n",
        "\n",
        "validate_x_df = validate_df.drop(\"label\", axis=1)\n",
        "validate_y_df = validate_df[\"label\"].copy()\n",
        "\n",
        "n = df.label.count()\n",
        "maxDepthList = [4, 8, 10, 15, 20]\n",
        "temporary = 0\n",
        "test_df[\"label\"]\n",
        "i=df[df['label']=='white']\n",
        "print(i)"
      ]
    },
    {
      "cell_type": "markdown",
      "metadata": {
        "id": "kyiSZCoisMHF"
      },
      "source": [
        "####Decision Tree Using Gini Index"
      ]
    },
    {
      "cell_type": "code",
      "execution_count": 25,
      "metadata": {
        "colab": {
          "base_uri": "https://localhost:8080/"
        },
        "id": "V-9DJO6S_sQ_",
        "outputId": "b359c2f6-fa4b-487f-96f4-f51853c53efe"
      },
      "outputs": [
        {
          "output_type": "stream",
          "name": "stdout",
          "text": [
            "Accuracy  4 is 0.9859635889875544 (GINI INDEX) : Train\n",
            "Accuracy  4 is 0.9858081621924321 (GINI INDEX) : Validation\n",
            "\n",
            "Accuracy  8 is 0.9865875818562073 (GINI INDEX) : Train\n",
            "Accuracy  8 is 0.9864344407492486 (GINI INDEX) : Validation\n",
            "\n",
            "Accuracy  10 is 0.9869190066399242 (GINI INDEX) : Train\n",
            "Accuracy  10 is 0.9867018662643855 (GINI INDEX) : Validation\n",
            "\n",
            "Accuracy  15 is 0.9882904195380624 (GINI INDEX) : Train\n",
            "Accuracy  15 is 0.9881669923772299 (GINI INDEX) : Validation\n",
            "\n",
            "Accuracy  20 is 0.9867978651672552 (GINI INDEX) : Train\n",
            "Accuracy  20 is 0.9866790093827499 (GINI INDEX) : Validation\n",
            "\n"
          ]
        }
      ],
      "source": [
        "from sklearn.metrics import accuracy_score\n",
        "\n",
        "\n",
        "for i in range(0,5):\n",
        "    dtg = DecisionTreeClassifier(max_depth = maxDepthList[i]) #Gini is the default setting in this case\n",
        "    y_pred = dtg.fit(train_x_df, train_y_df)\n",
        "    y_pred = dtg.predict(test_x_df)\n",
        "    y_predv = dtg.predict(validate_x_df)\n",
        "    print(\"Accuracy \", (maxDepthList[i]) , \"is\", accuracy_score(test_y_df,y_pred), \"(GINI INDEX) : Train\")\n",
        "    print(\"Accuracy \", (maxDepthList[i]) , \"is\", accuracy_score(validate_y_df,y_predv), \"(GINI INDEX) : Validation\")\n",
        "    print()\n"
      ]
    },
    {
      "cell_type": "markdown",
      "metadata": {
        "id": "VZK1EdHisPpf"
      },
      "source": [
        "####Decision Tree Using entropy"
      ]
    },
    {
      "cell_type": "code",
      "execution_count": 26,
      "metadata": {
        "id": "6-11p0ossT8n",
        "colab": {
          "base_uri": "https://localhost:8080/"
        },
        "outputId": "b8722947-3875-4dc7-bf67-8fa47b092422"
      },
      "outputs": [
        {
          "output_type": "stream",
          "name": "stdout",
          "text": [
            "Accuracy  4 is 0.9859635889875544 (ENTROPY) : Test\n",
            "Accuracy  4 is 0.9858081621924321 (ENTROPY) : Validation\n",
            "\n",
            "Accuracy  8 is 0.9862493000079999 (ENTROPY) : Test\n",
            "Accuracy  8 is 0.9861190157826768 (ENTROPY) : Validation\n",
            "\n",
            "Accuracy  10 is 0.9875909989600119 (ENTROPY) : Test\n",
            "Accuracy  10 is 0.9873258591330385 (ENTROPY) : Validation\n",
            "\n",
            "Accuracy  15 is 0.9882492771511183 (ENTROPY) : Test\n",
            "Accuracy  15 is 0.9879635661306728 (ENTROPY) : Validation\n",
            "\n",
            "Accuracy  20 is 0.9864778688243563 (ENTROPY) : Test\n",
            "Accuracy  20 is 0.9863338704700517 (ENTROPY) : Validation\n",
            "\n"
          ]
        }
      ],
      "source": [
        "for i in range(0,5):\n",
        "    dtg = DecisionTreeClassifier(criterion='entropy',max_depth = maxDepthList[i])\n",
        "    y_pred = dtg.fit(train_x_df, train_y_df).predict(test_x_df)\n",
        "    print(\"Accuracy \", (maxDepthList[i]) , \"is\", accuracy_score(test_y_df,y_pred), \"(ENTROPY) : Test\")\n",
        "    y_predv = dtg.predict(validate_x_df)\n",
        "    print(\"Accuracy \", (maxDepthList[i]) , \"is\", accuracy_score(validate_y_df,y_predv), \"(ENTROPY) : Validation\")\n",
        "    print()\n",
        "\n",
        "#Entropy gives slightly (not a very significant amount of difference) better results than the gini index \n",
        "#https://quantdare.com/decision-trees-gini-vs-entropy/"
      ]
    },
    {
      "cell_type": "markdown",
      "metadata": {
        "id": "ihhi1uz6HtKk"
      },
      "source": [
        "####Ensembling\n"
      ]
    },
    {
      "cell_type": "code",
      "execution_count": 27,
      "metadata": {
        "id": "u9QzDYMIHsco"
      },
      "outputs": [],
      "source": [
        "hun = []\n",
        "from sklearn.metrics import classification_report\n",
        "import numpy as np\n",
        "predictiabilityResult = []\n",
        "predictiabilityResultv = [] #for validation set\n",
        "\n",
        "def shufflingandselecting(df): #for choosing and shuffling different types of train_df at 50 percent of the sample\n",
        "    shuffled_df = df.sample(frac = 1, random_state = 50)\n",
        "    n = math.floor(df.label.count())\n",
        "    df_split = np.array_split(df, 2)\n",
        "\n",
        "    train_df = df_split[0]\n",
        "    train_x_df = train_df.drop(\"label\", axis=1)\n",
        "    train_y_df = train_df[\"label\"].copy()\n",
        "    return train_x_df,train_y_df\n",
        "\n",
        "for i in range(0,100):\n",
        "    train_x_df,train_y_df = shufflingandselecting(train_df)\n",
        "    s = \"dt\" + str(i)\n",
        "    dtx = DecisionTreeClassifier(criterion='entropy', max_depth = 3)\n",
        "    dtx.fit(train_x_df, train_y_df)\n",
        "    y_pred = dtx.predict(test_x_df)\n",
        "    predictiabilityResult.append(y_pred)\n",
        "    y_predv = dtx.predict(validate_x_df)\n",
        "    predictiabilityResultv.append(y_predv)"
      ]
    },
    {
      "cell_type": "markdown",
      "metadata": {
        "id": "0bRL2C0aarc8"
      },
      "source": [
        "####Aggregation and predicting the final results"
      ]
    },
    {
      "cell_type": "code",
      "execution_count": 28,
      "metadata": {
        "id": "I0___7DHuV3o"
      },
      "outputs": [],
      "source": [
        "voting = pd.DataFrame(predictiabilityResult)\n",
        "aggregationResult = voting.mode()\n",
        "aggregationResult = aggregationResult.transpose()\n",
        "\n",
        "votingv = pd.DataFrame(predictiabilityResultv)\n",
        "aggregationResultv = voting.mode()\n",
        "aggregationResultv = aggregationResultv.transpose()"
      ]
    },
    {
      "cell_type": "code",
      "execution_count": 31,
      "metadata": {
        "id": "Ob1FEud_-QP3",
        "colab": {
          "base_uri": "https://localhost:8080/"
        },
        "outputId": "ef08532b-54bc-4926-c992-5fe191b1dd53"
      },
      "outputs": [
        {
          "output_type": "stream",
          "name": "stdout",
          "text": [
            "Accuracy of aggregation function will be 0.9859635889875544\n",
            "Accuracy of aggregation function will be 0.9858081621924321 Validation\n"
          ]
        }
      ],
      "source": [
        "print(\"Accuracy of aggregation function will be\", accuracy_score(test_y_df,aggregationResult))\n",
        "print(\"Accuracy of aggregation function will be\", accuracy_score(validate_y_df,aggregationResultv),\"Validation\")"
      ]
    },
    {
      "cell_type": "markdown",
      "metadata": {
        "id": "KArhIf0lq2Vy"
      },
      "source": [
        "###Adaboost\n"
      ]
    },
    {
      "cell_type": "code",
      "execution_count": 32,
      "metadata": {
        "colab": {
          "base_uri": "https://localhost:8080/"
        },
        "id": "NJ_w3ORmq6qd",
        "outputId": "bf2f2659-717c-4a64-b013-0a656dc35d95"
      },
      "outputs": [
        {
          "output_type": "stream",
          "name": "stdout",
          "text": [
            "Accuracy 4 is 0.9849121724323151 (DECISION TREE WITH ADABOOST) : Test\n",
            "Accuracy 4 is 0.9848893155506794 (DECISION TREE WITH ADABOOST) : Validation\n",
            "\n",
            "Accuracy 8 is 0.9851247414315265 (DECISION TREE WITH ADABOOST) : Test\n",
            "Accuracy 8 is 0.9849304579376236 (DECISION TREE WITH ADABOOST) : Validation\n",
            "\n",
            "Accuracy 10 is 0.9837578999097153 (DECISION TREE WITH ADABOOST) : Test\n",
            "Accuracy 10 is 0.9835224740288683 (DECISION TREE WITH ADABOOST) : Validation\n",
            "\n",
            "Accuracy 15 is 0.9854538805270797 (DECISION TREE WITH ADABOOST) : Test\n",
            "Accuracy 15 is 0.9853624530005372 (DECISION TREE WITH ADABOOST) : Validation\n",
            "\n",
            "Accuracy 20 is 0.9865624392864082 (DECISION TREE WITH ADABOOST) : Test\n",
            "Accuracy 20 is 0.9864275836847579 (DECISION TREE WITH ADABOOST) : Validation\n",
            "\n"
          ]
        }
      ],
      "source": [
        "from sklearn.ensemble import AdaBoostClassifier\n",
        "from sklearn.tree import DecisionTreeClassifier\n",
        "\n",
        "dtg = DecisionTreeClassifier()\n",
        "\n",
        "for i in range(0,5):\n",
        "    abt = AdaBoostClassifier(base_estimator = dtg, n_estimators = maxDepthList[i], random_state=0)\n",
        "    abt.fit(train_x_df, train_y_df)\n",
        "    y_pred = abt.predict(test_x_df)\n",
        "    y_predv = abt.predict(validate_x_df)\n",
        "    print(\"Accuracy\",(maxDepthList[i]),\"is\", accuracy_score(test_y_df,y_pred),\"(DECISION TREE WITH ADABOOST) : Test\")\n",
        "    print(\"Accuracy\",(maxDepthList[i]),\"is\", accuracy_score(validate_y_df,y_predv),\"(DECISION TREE WITH ADABOOST) : Validation\")\n",
        "    print()"
      ]
    },
    {
      "cell_type": "markdown",
      "source": [],
      "metadata": {
        "id": "w2WfEmH31juT"
      }
    },
    {
      "cell_type": "markdown",
      "metadata": {
        "id": "5RSu5hEHALGz"
      },
      "source": [
        "####Using RF :"
      ]
    },
    {
      "cell_type": "code",
      "execution_count": 33,
      "metadata": {
        "id": "-fNUng-GAKwh",
        "colab": {
          "base_uri": "https://localhost:8080/"
        },
        "outputId": "450fb235-c48f-4578-f499-dff1cede8c6c"
      },
      "outputs": [
        {
          "output_type": "stream",
          "name": "stdout",
          "text": [
            "Accuracy 4 is 0.9846013188420704 (RANDOM FOREST) : Test\n",
            "Accuracy 4 is 0.9844481777351116 (RANDOM FOREST) : Validation\n",
            "\n",
            "Accuracy 8 is 0.9871818607787339 (RANDOM FOREST) : Test\n",
            "Accuracy 8 is 0.9869350064570691 (RANDOM FOREST) : Validation\n",
            "\n",
            "Accuracy 10 is 0.9875475708849042 (RANDOM FOREST) : Test\n",
            "Accuracy 10 is 0.9873098593158935 (RANDOM FOREST) : Validation\n",
            "\n",
            "Accuracy 15 is 0.9879178523674015 (RANDOM FOREST) : Test\n",
            "Accuracy 15 is 0.9877075690563536 (RANDOM FOREST) : Validation\n",
            "\n",
            "Accuracy 20 is 0.9880664220980332 (RANDOM FOREST) : Test\n",
            "Accuracy 20 is 0.9877761397012605 (RANDOM FOREST) : Validation\n",
            "\n"
          ]
        }
      ],
      "source": [
        "from sklearn.ensemble import RandomForestClassifier\n",
        "for i in range(0,5):\n",
        "    rf = RandomForestClassifier(n_estimators = maxDepthList[i])\n",
        "    rf.fit(train_x_df, train_y_df)\n",
        "    y_pred = rf.predict(test_x_df)\n",
        "    y_predv = rf.predict(validate_x_df)\n",
        "    print(\"Accuracy\",(maxDepthList[i]),\"is\", accuracy_score(test_y_df,y_pred),\"(RANDOM FOREST) : Test\")\n",
        "    print(\"Accuracy\",(maxDepthList[i]),\"is\", accuracy_score(validate_y_df,y_predv),\"(RANDOM FOREST) : Validation\")\n",
        "    print()"
      ]
    }
  ],
  "metadata": {
    "colab": {
      "collapsed_sections": [],
      "provenance": []
    },
    "kernelspec": {
      "display_name": "Python 3",
      "name": "python3"
    },
    "language_info": {
      "name": "python"
    }
  },
  "nbformat": 4,
  "nbformat_minor": 0
}